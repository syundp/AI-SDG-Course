{
  "nbformat": 4,
  "nbformat_minor": 0,
  "metadata": {
    "colab": {
      "name": "Chapter one.ipynb",
      "provenance": []
    },
    "kernelspec": {
      "name": "python3",
      "display_name": "Python 3"
    },
    "language_info": {
      "name": "python"
    }
  },
  "cells": [
    {
      "cell_type": "markdown",
      "metadata": {
        "id": "5c0bs38Sr3DW"
      },
      "source": [
        "# Chapter one:  Python -  – Introduction\n",
        "\n"
      ]
    },
    {
      "cell_type": "markdown",
      "metadata": {
        "id": "7cU2m25mr0SO"
      },
      "source": [
        "## Session 1 Python - 1 \n"
      ]
    },
    {
      "cell_type": "markdown",
      "metadata": {
        "id": "TDTZ0EXpsS7-"
      },
      "source": [
        "### Installation"
      ]
    },
    {
      "cell_type": "markdown",
      "metadata": {
        "id": "9abwSeliueL5"
      },
      "source": [
        "\n",
        "Step 1: Download the Official Installer\n",
        "\n",
        "- Windows:\n",
        "\n",
        "    https://www.python.org/downloads/windows/\n",
        "\n",
        "-  Mac OS:\n",
        "\n",
        "    https://www.python.org/downloads/macos/\n",
        "\n",
        "\n",
        "Step 2: Run the Installer\n",
        "\n"
      ]
    },
    {
      "cell_type": "markdown",
      "metadata": {
        "id": "iUMCaPEwskfU"
      },
      "source": [
        "### Creativity and motivation \n",
        "\n",
        "The AI SDG course is create for program beginners and people who have intertests in Sustainable Developement Goals data or projects to gain expertise in conducting data analysis under the field. The audience would grasp the essential understanding of Python programming basics, machine learning and AI models to perform in-depth data analysis."
      ]
    },
    {
      "cell_type": "markdown",
      "metadata": {
        "id": "ycpuYbjmsnXc"
      },
      "source": [
        "### What is a program? "
      ]
    },
    {
      "cell_type": "markdown",
      "metadata": {
        "id": "LLOLRsHmxeF2"
      },
      "source": [
        "The definition of a program at a basic level is that using Python statements to perform certain tasks. It can be easier to understand the term as programs are design for solving practical problems.\n"
      ]
    },
    {
      "cell_type": "code",
      "metadata": {
        "colab": {
          "base_uri": "https://localhost:8080/"
        },
        "id": "9poup64Mx0wr",
        "outputId": "e16dc757-b7e5-4b69-b71b-2855ec36818b"
      },
      "source": [
        "### a good example here for program\n",
        "\n",
        "def print_name(name):\n",
        "  print(\"Hello\", name)\n",
        "  return\n",
        "\n",
        "print_name(\"Jack\")"
      ],
      "execution_count": 6,
      "outputs": [
        {
          "output_type": "stream",
          "text": [
            "Hello Jack\n"
          ],
          "name": "stdout"
        }
      ]
    },
    {
      "cell_type": "markdown",
      "metadata": {
        "id": "TTrMRzb3yViV"
      },
      "source": [
        "By above, we define a program to perform a task of printing names. In reality, our program can have more advanced goals, and we would complete those targets by utilizing functions, models and etc."
      ]
    },
    {
      "cell_type": "markdown",
      "metadata": {
        "id": "ljP7FiFmssUM"
      },
      "source": [
        "### Debugging "
      ]
    },
    {
      "cell_type": "markdown",
      "metadata": {
        "id": "m_XCQ0tMy9AH"
      },
      "source": [
        "As we build different programs in Python to solve issues, we usually encounter bugs or errors. Debugging is the key process of finding the cause of the error in our code. We provide three helpful advice for debugging process.\n",
        "\n",
        "- **reading:** Examine the code, understand the goal in each steps and commands. \n",
        "\n",
        "- **running:** Take experiments in running the code with changes and modifications. With multiple trials, it is easier to find the cause of errors.\n",
        "\n",
        "- **ruminating:** Reflecting on the errors, it can be in semantic, logic or syntax. Take time to review the experiments, which is better for identifing errors.\n"
      ]
    },
    {
      "cell_type": "markdown",
      "metadata": {
        "id": "-_AoU9agsypo"
      },
      "source": [
        "### Basic concepts\n",
        "\n",
        "- **input**: Input can come from various resource, for example a CSV file of data. In the below example, the input will come from the user typing data. \n",
        "\n",
        "- **output**:\n",
        "The results of a program. We hope to store it for future usage or display it. \n"
      ]
    },
    {
      "cell_type": "code",
      "metadata": {
        "colab": {
          "base_uri": "https://localhost:8080/"
        },
        "id": "4IehJC1f3o6z",
        "outputId": "b7411424-d8ec-4493-d88d-30e51e2b8016"
      },
      "source": [
        "# example\n",
        "# give a input name and see the printed output\n",
        "input_name=input(\"Give me your name: \")\n",
        "print(\"Hello,\", input_name)"
      ],
      "execution_count": 10,
      "outputs": [
        {
          "output_type": "stream",
          "text": [
            "Give me your name: a\n",
            "Hello, a\n"
          ],
          "name": "stdout"
        }
      ]
    },
    {
      "cell_type": "markdown",
      "metadata": {
        "id": "zHaP-aUw4W3M"
      },
      "source": [
        "- **indentation**: Repetition can be established by for loop. An example is provided in the below. Note that the body of for loop is indented with a tabulator or four spaces. When the indentation stops, the loop ends. \n",
        "\n",
        "    Indentation applies to other statements such as in functions, conditional statements, and while loops."
      ]
    },
    {
      "cell_type": "code",
      "metadata": {
        "colab": {
          "base_uri": "https://localhost:8080/"
        },
        "id": "ntRY8Bg441mO",
        "outputId": "6a2bcc7b-1be7-4732-9a61-f0dc721ad0b6"
      },
      "source": [
        "# example\n",
        "for i in range(3):\n",
        "    print(\"Hi\")\n",
        "print(\"Bye!\")"
      ],
      "execution_count": 12,
      "outputs": [
        {
          "output_type": "stream",
          "text": [
            "Hi\n",
            "Hi\n",
            "Hi\n",
            "Bye!\n"
          ],
          "name": "stdout"
        }
      ]
    },
    {
      "cell_type": "markdown",
      "metadata": {
        "id": "tOEBdvhAs2Bk"
      },
      "source": [
        "### Python Advantages "
      ]
    },
    {
      "cell_type": "markdown",
      "metadata": {
        "id": "6KxOoqvb5RxE"
      },
      "source": [
        "- **Vast Libraries**\n",
        "\n",
        "    The standard library of Python is vast and powerful to perform different tasks. Python package manager (pip) is easy for people to import other packages from the Python package index (PyPi). It consists of over 200,000 packages.\n",
        "\n",
        "- **Grammar usage**\n",
        "\n",
        "    Python is a user-friendly language that is similar to English-like syntax. The user find it easy to read and understand the code. Compare to C/C++, less lines of code are needed to perform the same task.\n",
        "  "
      ]
    },
    {
      "cell_type": "markdown",
      "metadata": {
        "id": "QBaHEmY8tBuQ"
      },
      "source": [
        "### Setting up Google Colab "
      ]
    },
    {
      "cell_type": "markdown",
      "metadata": {
        "id": "07GYVcBbTHMf"
      },
      "source": [
        "- Mount Drive"
      ]
    },
    {
      "cell_type": "code",
      "metadata": {
        "id": "i_1HqKFgTRn6"
      },
      "source": [
        "from google.colab import drive\n",
        "drive.mount('/content/gdrive')"
      ],
      "execution_count": null,
      "outputs": []
    },
    {
      "cell_type": "markdown",
      "metadata": {
        "id": "5MdqwxXWTRNn"
      },
      "source": [
        "To mount your drive, please run the above code. You can see a link, then allow access. You can copy the code, and paste it in the box\n",
        " \n",
        "Then you’ve successfully mounted your drive.\n"
      ]
    },
    {
      "cell_type": "markdown",
      "metadata": {
        "id": "MwaKi2X0T5YM"
      },
      "source": [
        "- Access external files \n"
      ]
    },
    {
      "cell_type": "markdown",
      "metadata": {
        "id": "8kWKyxNUWZLG"
      },
      "source": [
        "Clone a GitHub repository"
      ]
    },
    {
      "cell_type": "code",
      "metadata": {
        "id": "7sVLRYZvT5Eq"
      },
      "source": [
        "# The same way as you perform in your local machine and add the github repostiory after the clone command.\n",
        "\n",
        "! git clone "
      ],
      "execution_count": null,
      "outputs": []
    },
    {
      "cell_type": "markdown",
      "metadata": {
        "id": "3wzQCrAaV-i8"
      },
      "source": [
        "Upload files:\n",
        "\n",
        "![Screen Shot 2021-08-15 at 3.44.07 PM.png](data:image/png;base64,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)"
      ]
    },
    {
      "cell_type": "markdown",
      "metadata": {
        "id": "0HJIrcSEWHRC"
      },
      "source": [
        "You can see three buttons under the \"Files\". Click the left button to upload local files to the Colab."
      ]
    },
    {
      "cell_type": "markdown",
      "metadata": {
        "id": "LCamUAHUWhwj"
      },
      "source": [
        "Zip"
      ]
    },
    {
      "cell_type": "markdown",
      "metadata": {
        "id": "GX8G9bGBW6Dp"
      },
      "source": [
        "first path is filename you want to zip\n",
        "\n",
        "second path is the Google Drive file location of the files which you want to Zip"
      ]
    },
    {
      "cell_type": "code",
      "metadata": {
        "id": "24Q6A39qWkrs"
      },
      "source": [
        "!zip \"file_name\" \"location of zip file\"\n"
      ],
      "execution_count": null,
      "outputs": []
    },
    {
      "cell_type": "markdown",
      "metadata": {
        "id": "FEiFY-XCXL88"
      },
      "source": [
        "Unzip"
      ]
    },
    {
      "cell_type": "markdown",
      "metadata": {
        "id": "BcEagPw2XPF7"
      },
      "source": [
        "first path is filename you want to unzip\n",
        "\n",
        "second path is the Google Drive file location of the files which you want to extract"
      ]
    },
    {
      "cell_type": "code",
      "metadata": {
        "id": "UbVYeYF1XU8s"
      },
      "source": [
        "!unzip \"file_name\" -d \"location of unzip file\""
      ],
      "execution_count": null,
      "outputs": []
    },
    {
      "cell_type": "markdown",
      "metadata": {
        "id": "5Jyn0Nf5XqXl"
      },
      "source": [
        "Read Update Save files  \n",
        "\n",
        "\n",
        "Hope to get guidance on introducing the part."
      ]
    },
    {
      "cell_type": "markdown",
      "metadata": {
        "id": "yCpKlYu_YMTt"
      },
      "source": [
        "Run commands and install libraries\n",
        "\n",
        "In colab you can run your Python commands in the code trunk. Also, we mention that Python has provided user various libraries to use. In below, we provide some simple examples to show how you can import libraries."
      ]
    },
    {
      "cell_type": "code",
      "metadata": {
        "id": "ohuR2skcYjxK"
      },
      "source": [
        "# existing libraries Pandas and NumPy\n",
        "import pandas as pd\n",
        "import numpy as np"
      ],
      "execution_count": null,
      "outputs": []
    },
    {
      "cell_type": "code",
      "metadata": {
        "id": "nL85QJE4ZVgu"
      },
      "source": [
        "# if the libraries is not exist in colab\n",
        "# we can use first the below code to first install the package:\n",
        "!pip install \n",
        "# then we import the library\n",
        "import"
      ],
      "execution_count": null,
      "outputs": []
    },
    {
      "cell_type": "markdown",
      "metadata": {
        "id": "4PMtMLOFsOl1"
      },
      "source": [
        "# Python-2"
      ]
    },
    {
      "cell_type": "markdown",
      "metadata": {
        "id": "DSfqdQ1JsL7g"
      },
      "source": [
        "# Python-3"
      ]
    }
  ]
}